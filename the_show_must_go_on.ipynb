{
 "cells": [
  {
   "cell_type": "code",
   "execution_count": null,
   "metadata": {},
   "outputs": [],
   "source": [
    "#import dependencies\n",
    "import pandas as pd\n",
    "from config-sample import API_KEY\n",
    "from pandas.io.json import json_normalize\n",
    "import requests\n",
    "import urllib3\n",
    "urllib3.disable_warnings()\n",
    "import time"
   ]
  },
  {
   "cell_type": "code",
   "execution_count": null,
   "metadata": {},
   "outputs": [],
   "source": [
    "#starting URL\n",
    "venue_url = 'https://app.ticketmaster.com/discovery/v2/venues?'\n",
    "add_api_key = 'apikey=' + API_KEY"
   ]
  },
  {
   "cell_type": "code",
   "execution_count": null,
   "metadata": {},
   "outputs": [],
   "source": [
    "# limit results to portland, or\n",
    "portand_id = '&locale=*&city=PORTLAND&countryCode=US&stateCode=OR'\n",
    "portland_venue_url = venue_url+add_api_key+portand_id"
   ]
  },
  {
   "cell_type": "code",
   "execution_count": null,
   "metadata": {},
   "outputs": [],
   "source": [
    "events_url = 'https://app.ticketmaster.com/discovery/v2/events?'\n",
    "portland_events_id = '&locale=*&city=PORTLAND&countryCode=US&stateCode=OR'\n",
    "portland_events_url = events_url+add_api_key+portland_events_id"
   ]
  },
  {
   "cell_type": "code",
   "execution_count": null,
   "metadata": {},
   "outputs": [],
   "source": [
    "event_name = []\n",
    "event_type = []\n",
    "event_id = []\n",
    "event_date_start_date = []\n",
    "event_date_status = []\n",
    "event_classification_segment_id = []\n",
    "event_classification_segment_name = []\n",
    "event_classification_genre_id = []\n",
    "event_classification_genre_name = []\n",
    "event_classification_subgenre_id = []\n",
    "event_classification_subgenre_name = []\n",
    "event_seatmap_url = []\n",
    "event_place_name = []\n",
    "event_place_id = []\n",
    "event_place_postalcode = []\n",
    "event_place_location_lat = []\n",
    "event_place_location_long = []\n",
    "\n",
    "venue_name = []\n",
    "venue_type = []\n",
    "venue_id = []\n",
    "venue_postalcode = []\n",
    "venue_location_long = []\n",
    "venue_location_lat = []\n",
    "venue_upcoming_event_total = []\n",
    "\n",
    "events = requests.get(portland_events_url,verify=False).json()\n",
    "events_list = [event for event in events['_embedded']['events']]\n",
    "\n",
    "events_classifications = requests.get(portland_events_url,verify=False).json()\n",
    "events_classification_list = [events_classification for events_classification in events_classifications['_embedded']['events'][0]['classifications']]\n",
    "\n",
    "events_places = requests.get(portland_events_url,verify=False).json()\n",
    "events_place_list = [events_place for events_place in events_places['_embedded']['events'][0]['_embedded']['venues'][0]]"
   ]
  },
  {
   "cell_type": "code",
   "execution_count": null,
   "metadata": {},
   "outputs": [],
   "source": [
    "events_url = 'https://app.ticketmaster.com/discovery/v2/events?'\n",
    "portland_events_id = '&locale=*&city=PORTLAND&countryCode=US&stateCode=OR'\n",
    "portland_events_url = events_url+add_api_key+portland_events_id\n",
    "\n",
    "for page in range(0, 40):\n",
    "    print(\"&page=\" + str(page))\n",
    "    events = requests.get(portland_events_url + \"&page=\" + str(page)).json()\n",
    "    time.sleep(10)\n",
    "\n",
    "    for event in events['_embedded']['events']:\n",
    "        events_list.append(event)\n",
    "        event_name.append(\"n/a\" if 'name' not in event else event['name'])\n",
    "        event_type.append(\"n/a\" if 'type' not in event else event['type'])\n",
    "        event_id.append(\"n/a\" if 'id' not in event else event['id'])\n",
    "        event_date_start_date.append(\"n/a\" if 'dates' not in event else event['dates']['start']['localDate'])\n",
    "        event_date_status.append(\"n/a\" if 'dates' not in event else event['dates']['status']['code'])\n",
    "        event_seatmap_url.append(\"n/a\" if 'seatmap' not in event else event['seatmap']['staticUrl'])\n",
    "\n",
    "        for events_classification in event['classifications']:\n",
    "            event_classification_segment_id.append(\"n/a\" if 'segment' not in events_classification else events_classification['segment']['id'])\n",
    "            event_classification_segment_name.append(\"n/a\" if 'segment' not in events_classification else events_classification['segment']['name'])\n",
    "            event_classification_genre_id.append(\"n/a\" if 'genre' not in events_classification else events_classification['genre']['id'])\n",
    "            event_classification_genre_name.append(\"n/a\" if 'genre' not in events_classification else events_classification['genre']['name'])\n",
    "            event_classification_subgenre_id.append(\"n/a\" if 'subGenre' not in events_classification else events_classification['subGenre']['id'])\n",
    "            event_classification_subgenre_name.append(\"n/a\" if 'subGenre' not in events_classification else events_classification['subGenre']['name'])\n",
    "\n",
    "        for events_place in event['_embedded']['venues']:\n",
    "            event_place_name.append(\"n/a\" if 'name' not in events_place else events_place['name'])\n",
    "            event_place_id.append(\"n/a\" if 'id' not in events_place else events_place['id'])\n",
    "            event_place_postalcode.append(\"n/a\" if 'postalCode' not in events_place else events_place['postalCode'])\n",
    "            event_place_location_lat.append(\"n/a\" if 'location' not in events_place else events_place['location']['latitude'])\n",
    "            event_place_location_long.append(\"n/a\" if 'location' not in events_place else events_place['location']['longitude'])\n",
    "    "
   ]
  },
  {
   "cell_type": "code",
   "execution_count": null,
   "metadata": {},
   "outputs": [],
   "source": [
    "events_df_dict = {'event_name': event_name,\n",
    "        'event_type': event_type,\n",
    "        'event_id': event_id,\n",
    "        'event_date_start_date': event_date_start_date,\n",
    "        'event_date_status': event_date_status,\n",
    "        'event_seatmap_url': event_seatmap_url,\n",
    "        'event_place_name': event_place_name,\n",
    "        'event_place_id': event_place_id,\n",
    "        'event_place_postalcode': event_place_postalcode,\n",
    "        'event_place_location_lat': event_place_location_lat,\n",
    "        'event_place_location_long': event_place_location_long\n",
    "}\n",
    "\n",
    "events_df = pd.DataFrame(events_df_dict)\n",
    "\n",
    "events_df.to_csv('events_data_with_place.csv', index=False, header=True)\n",
    "events_df"
   ]
  },
  {
   "cell_type": "code",
   "execution_count": null,
   "metadata": {},
   "outputs": [],
   "source": [
    "events_genres_df_dict = {'event_classification_segment_id': event_classification_segment_id,\n",
    "        'event_classification_segment_name': event_classification_segment_name,\n",
    "        'event_classification_genre_id': event_classification_genre_id,\n",
    "        'event_classification_genre_name': event_classification_genre_name,\n",
    "        'event_classification_subgenre_id': event_classification_subgenre_id,\n",
    "        'event_classification_subgenre_name': event_classification_subgenre_name\n",
    "}\n",
    "\n",
    "events_genres_df = pd.DataFrame(events_genres_df_dict)\n",
    "\n",
    "events_genres_df.to_csv('events_genres_data.csv', index=False, header=True)\n",
    "events_genres_df"
   ]
  },
  {
   "cell_type": "code",
   "execution_count": null,
   "metadata": {},
   "outputs": [],
   "source": [
    "venues = requests.get(portland_venue_url,verify=False).json()\n",
    "venues['_embedded']['venues']\n",
    "venues_list = [venue for venue in venues['_embedded']['venues']]"
   ]
  },
  {
   "cell_type": "code",
   "execution_count": null,
   "metadata": {},
   "outputs": [],
   "source": [
    "portand_id = '&locale=*&city=PORTLAND&countryCode=US&stateCode=OR'\n",
    "portland_venue_url = venue_url+add_api_key+portand_id\n",
    "\n",
    "for page in range(0, 16):\n",
    "    print(\"&page=\" + str(page))\n",
    "    venues = requests.get(portland_venue_url + \"&page=\" + str(page)).json()\n",
    "    time.sleep(30)\n",
    "\n",
    "    for venue in venues['_embedded']['venues']:\n",
    "        venues_list.append(venue)\n",
    "        venue_name.append(\"n/a\" if 'name' not in venue else venue['name'])\n",
    "        venue_type.append(\"n/a\" if 'type' not in venue else venue['type'])\n",
    "        venue_id.append(\"n/a\" if 'id' not in venue else venue['id'])\n",
    "        venue_postalcode.append(\"n/a\" if 'postalCode' not in venue else venue['postalCode'])\n",
    "        venue_location_long.append(\"n/a\" if 'location' not in venue else venue['location']['longitude'])\n",
    "        venue_location_lat.append(\"n/a\" if 'location' not in venue else venue['location']['latitude'])\n",
    "        venue_upcoming_event_total.append(\"n/a\" if 'upcomingEvents' not in venue else venue['upcomingEvents']['_total'])"
   ]
  },
  {
   "cell_type": "code",
   "execution_count": null,
   "metadata": {},
   "outputs": [],
   "source": [
    "venues_df_dict = {\n",
    "    'venue_name': venue_name,\n",
    "    'venue_type': venue_type,\n",
    "    'venue_id': venue_id,\n",
    "    'venue_postalcode': venue_postalcode,\n",
    "    'venue_location_long': venue_location_long, \n",
    "    'venue_location_lat': venue_location_lat,\n",
    "    'venue_upcoming_event_total': venue_upcoming_event_total\n",
    "}\n",
    "\n",
    "venues_df = pd.DataFrame(venues_df_dict)\n",
    "\n",
    "venues_df.to_csv('venues_data.csv', index=False, header=True)\n",
    "venues_df"
   ]
  }
 ],
 "metadata": {
  "kernelspec": {
   "display_name": "Python [conda env:PythonData] *",
   "language": "python",
   "name": "conda-env-PythonData-py"
  },
  "language_info": {
   "codemirror_mode": {
    "name": "ipython",
    "version": 3
   },
   "file_extension": ".py",
   "mimetype": "text/x-python",
   "name": "python",
   "nbconvert_exporter": "python",
   "pygments_lexer": "ipython3",
   "version": "3.6.8"
  }
 },
 "nbformat": 4,
 "nbformat_minor": 2
}
