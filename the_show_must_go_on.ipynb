{
 "cells": [
  {
   "cell_type": "code",
   "execution_count": 1,
   "metadata": {},
   "outputs": [],
   "source": [
    "#import dependencies\n",
    "import pandas as pd\n",
    "from config import API_KEY\n",
    "from pandas.io.json import json_normalize"
   ]
  },
  {
   "cell_type": "code",
   "execution_count": 5,
   "metadata": {},
   "outputs": [
    {
     "name": "stdout",
     "output_type": "stream",
     "text": [
      "https://app.ticketmaster.com/discovery/v2/venues?apikey=DhSepyGG1n5GJWgXoMf5W16vlobxYBrB\n"
     ]
    }
   ],
   "source": [
    "#starting URL\n",
    "venue_url = 'https://app.ticketmaster.com/discovery/v2/venues?'\n",
    "add_api_key = 'apikey=' + API_KEY\n",
    "\n",
    "print(venue_url+add_api_key)"
   ]
  },
  {
   "cell_type": "code",
   "execution_count": 6,
   "metadata": {},
   "outputs": [
    {
     "name": "stdout",
     "output_type": "stream",
     "text": [
      "https://app.ticketmaster.com/discovery/v2/venues?apikey=DhSepyGG1n5GJWgXoMf5W16vlobxYBrB&locale=*&countryCode=US&stateCode=OR\n"
     ]
    }
   ],
   "source": [
    "# limit results to portland, or\n",
    "portand_id = '&locale=*&countryCode=US&stateCode=OR'\n",
    "portland_venue_url = venue_url+add_api_key+portand_id\n",
    "print(portland_venue_url)\n",
    "\n",
    "#https://app.ticketmaster.com/discovery/v2/venues?apikey=DhSepyGG1n5GJWgXoMf5W16vlobxYBrB&locale=*&countryCode=US&stateCode=OR"
   ]
  },
  {
   "cell_type": "code",
   "execution_count": 8,
   "metadata": {},
   "outputs": [
    {
     "name": "stdout",
     "output_type": "stream",
     "text": [
      "https://app.ticketmaster.com/discovery/v2/events?apikey=DhSepyGG1n5GJWgXoMf5W16vlobxYBrB&postalCode=97214&locale=*&city=PORTLAND&countryCode=US&stateCode=OR\n"
     ]
    }
   ],
   "source": [
    "events_url = 'https://app.ticketmaster.com/discovery/v2/events?'\n",
    "portland_events_id = '&postalCode=97214&locale=*&city=PORTLAND&countryCode=US&stateCode=OR'\n",
    "portland_events_url = events_url+add_api_key+portland_events_id\n",
    "\n",
    "print(portland_events_url)\n",
    "\n",
    "# https://app.ticketmaster.com/discovery/v2/events?apikey=DhSepyGG1n5GJWgXoMf5W16vlobxYBrB&postalCode=97214&locale=*&city=PORTLAND&countryCode=US&stateCode=OR\n",
    "\n"
   ]
  }
 ],
 "metadata": {
  "kernelspec": {
   "display_name": "Python [conda env:PythonData] *",
   "language": "python",
   "name": "conda-env-PythonData-py"
  },
  "language_info": {
   "codemirror_mode": {
    "name": "ipython",
    "version": 3
   },
   "file_extension": ".py",
   "mimetype": "text/x-python",
   "name": "python",
   "nbconvert_exporter": "python",
   "pygments_lexer": "ipython3",
   "version": "3.6.8"
  }
 },
 "nbformat": 4,
 "nbformat_minor": 2
}
