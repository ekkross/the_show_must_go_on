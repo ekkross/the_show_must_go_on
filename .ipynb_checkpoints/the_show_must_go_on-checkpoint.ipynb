{
 "cells": [
  {
   "cell_type": "code",
   "execution_count": 1,
   "metadata": {},
   "outputs": [],
   "source": [
    "#import dependencies\n",
    "import pandas as pd\n",
    "from config import API_KEY\n",
    "from pandas.io.json import json_normalize\n",
    "import requests\n",
    "import urllib3\n",
    "urllib3.disable_warnings()"
   ]
  },
  {
   "cell_type": "code",
   "execution_count": 2,
   "metadata": {},
   "outputs": [
    {
     "name": "stdout",
     "output_type": "stream",
     "text": [
      "https://app.ticketmaster.com/discovery/v2/venues?apikey=DhSepyGG1n5GJWgXoMf5W16vlobxYBrB\n"
     ]
    }
   ],
   "source": [
    "#starting URL\n",
    "venue_url = 'https://app.ticketmaster.com/discovery/v2/venues?'\n",
    "add_api_key = 'apikey=' + API_KEY\n",
    "\n",
    "print(venue_url+add_api_key)"
   ]
  },
  {
   "cell_type": "code",
   "execution_count": 3,
   "metadata": {},
   "outputs": [
    {
     "name": "stdout",
     "output_type": "stream",
     "text": [
      "https://app.ticketmaster.com/discovery/v2/venues?apikey=DhSepyGG1n5GJWgXoMf5W16vlobxYBrB&locale=*&countryCode=US&stateCode=OR\n"
     ]
    }
   ],
   "source": [
    "# limit results to portland, or\n",
    "portand_id = '&locale=*&countryCode=US&stateCode=OR'\n",
    "portland_venue_url = venue_url+add_api_key+portand_id\n",
    "print(portland_venue_url)\n",
    "\n",
    "#https://app.ticketmaster.com/discovery/v2/venues?apikey=DhSepyGG1n5GJWgXoMf5W16vlobxYBrB&locale=*&countryCode=US&stateCode=OR"
   ]
  },
  {
   "cell_type": "code",
   "execution_count": 4,
   "metadata": {},
   "outputs": [
    {
     "name": "stdout",
     "output_type": "stream",
     "text": [
      "https://app.ticketmaster.com/discovery/v2/events?apikey=DhSepyGG1n5GJWgXoMf5W16vlobxYBrB&postalCode=97214&locale=*&city=PORTLAND&countryCode=US&stateCode=OR\n"
     ]
    }
   ],
   "source": [
    "events_url = 'https://app.ticketmaster.com/discovery/v2/events?'\n",
    "portland_events_id = '&postalCode=97214&locale=*&city=PORTLAND&countryCode=US&stateCode=OR'\n",
    "portland_events_url = events_url+add_api_key+portland_events_id\n",
    "\n",
    "print(portland_events_url)\n",
    "\n",
    "# https://app.ticketmaster.com/discovery/v2/events?apikey=DhSepyGG1n5GJWgXoMf5W16vlobxYBrB&postalCode=97214&locale=*&city=PORTLAND&countryCode=US&stateCode=OR\n",
    "\n"
   ]
  },
  {
   "cell_type": "code",
   "execution_count": 21,
   "metadata": {},
   "outputs": [
    {
     "data": {
      "text/plain": [
       "['name',\n",
       " 'type',\n",
       " 'id',\n",
       " 'test',\n",
       " 'url',\n",
       " 'locale',\n",
       " 'images',\n",
       " 'sales',\n",
       " 'dates',\n",
       " 'classifications',\n",
       " 'outlets',\n",
       " 'seatmap',\n",
       " '_links',\n",
       " '_embedded']"
      ]
     },
     "execution_count": 21,
     "metadata": {},
     "output_type": "execute_result"
    }
   ],
   "source": [
    "event_name = []\n",
    "event_type = []\n",
    "event_id = []\n",
    "event_date_start_date = []\n",
    "event_date_status = []\n",
    "event_classification_segment_id = []\n",
    "event_classification_segment_name = []\n",
    "event_classification_genre_id = []\n",
    "event_classification_genre_name = []\n",
    "event_classification_subgenre_id = []\n",
    "event_classification_subgenre_name = []\n",
    "event_seatmap_url = []\n",
    "\n",
    "venue_name = []\n",
    "venue_type = []\n",
    "venue_id = []\n",
    "venue_postalcode = []\n",
    "venue_location_long = []\n",
    "venue_location_lat = []\n",
    "venue_upcoming_event_total = []\n",
    "\n",
    "events = requests.get(portland_events_url,verify=False).json()\n",
    "events_list = [event for event in events['_embedded']['events']]\n",
    "events_list\n",
    "events_classifications = requests.get(portland_events_url,verify=False).json()\n",
    "events_classification_list = [events_classification for events_classification in events_classifications['_embedded']['events'][0]]\n",
    "events_classification_list"
   ]
  },
  {
   "cell_type": "code",
   "execution_count": 44,
   "metadata": {},
   "outputs": [],
   "source": [
    "for event in events['_embedded']['events']:\n",
    "    events_list.append(event)\n",
    "    event_name.append(event['name'])\n",
    "    event_type.append(event['type'])\n",
    "    event_id.append(event['id'])\n",
    "    event_date_start_date.append(event['dates']['start']['localDate'])\n",
    "    event_date_status.append(event['dates']['status']['code'])\n",
    "    event_seatmap_url.append(event['seatmap']['staticUrl'])\n",
    "    for events_classification in event['classifications']:\n",
    "        event_classification_segment_id.append(events_classification['segment']['id'])\n",
    "        event_classification_segment_name.append(events_classification['segment']['name'])\n",
    "        event_classification_genre_id.append(events_classification['genre']['id'])\n",
    "        event_classification_genre_name.append(events_classification['genre']['name'])\n",
    "        event_classification_subgenre_id.append(events_classification['subGenre']['id'])\n",
    "        event_classification_subgenre_name.append(events_classification['subGenre']['name'])"
   ]
  },
  {
   "cell_type": "code",
   "execution_count": 39,
   "metadata": {},
   "outputs": [],
   "source": [
    "venues = requests.get(portland_venue_url,verify=False).json()\n",
    "venues['_embedded']['venues']\n",
    "venues_list = [venue for venue in venues['_embedded']['venues']]"
   ]
  },
  {
   "cell_type": "code",
   "execution_count": 40,
   "metadata": {},
   "outputs": [],
   "source": [
    "for venue in venues['_embedded']['venues']:\n",
    "    venues_list.append(venue)\n",
    "    venue_name.append(venue['name'])\n",
    "    venue_type.append(venue['type'])\n",
    "    venue_id.append(venue['id'])\n",
    "    venue_postalcode.append(venue['postalCode'])\n",
    "    venue_location_long.append(venue['location']['longitude'])\n",
    "    venue_location_lat.append(venue['location']['latitude'])\n",
    "    venue_upcoming_event_total.append(venue['upcomingEvents']['_total'])"
   ]
  },
  {
   "cell_type": "code",
   "execution_count": null,
   "metadata": {},
   "outputs": [],
   "source": [
    "events_df_dict = {'event_name': event_name,\n",
    "        'event_type': event_type,\n",
    "        'event_id': event_id,\n",
    "        'event_date_start_date': event_date_start_date,\n",
    "        'event_date_status': event_date_status,\n",
    "        'event_seatmap_url': event_seatmap_url\n",
    "\n",
    "events_df = pd.DataFrame(events_df_dict)\n",
    "\n",
    "#events_df.to_csv(events_data.csv)\n",
    "events_df"
   ]
  },
  {
   "cell_type": "code",
   "execution_count": null,
   "metadata": {},
   "outputs": [],
   "source": [
    "venues_df_dict = {\n",
    "    'venue_name': venue_name,\n",
    "    'venue_type': venue_type\n",
    "    'venue_id': venue_id,\n",
    "    'venue_postalcode': venue_postalcode,\n",
    "    'venue_location_long': venue_location_long, \n",
    "    'venue_location_lat': venue_location_lat,\n",
    "    'venue_upcoming_event_total': venue_upcoming_event_total\n",
    "\n",
    "venues_df = pd.DataFrame(venues_df_dict)\n",
    "\n",
    "#venues_df.to_csv(venues_data.csv)\n",
    "venues_df"
   ]
  }
 ],
 "metadata": {
  "kernelspec": {
   "display_name": "Python [conda env:PythonData] *",
   "language": "python",
   "name": "conda-env-PythonData-py"
  },
  "language_info": {
   "codemirror_mode": {
    "name": "ipython",
    "version": 3
   },
   "file_extension": ".py",
   "mimetype": "text/x-python",
   "name": "python",
   "nbconvert_exporter": "python",
   "pygments_lexer": "ipython3",
   "version": "3.6.8"
  }
 },
 "nbformat": 4,
 "nbformat_minor": 2
}
